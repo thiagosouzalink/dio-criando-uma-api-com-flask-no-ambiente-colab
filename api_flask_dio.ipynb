{
  "cells": [
    {
      "cell_type": "markdown",
      "metadata": {
        "id": "R3hoHlkIqCf7"
      },
      "source": [
        "# Criando uma API com Flask no ambiente Colab\n",
        "\n",
        "<br>\n",
        "\n",
        "## Digital Innovation One"
      ]
    },
    {
      "cell_type": "code",
      "execution_count": null,
      "metadata": {
        "colab": {
          "base_uri": "https://localhost:8080/"
        },
        "id": "ccHhcm5uoV29",
        "outputId": "7a6b55ea-a0ec-4f66-8c4c-52af7e22dd33"
      },
      "outputs": [],
      "source": [
        "!pip install flask\n",
        "!pip install flask-ngrok"
      ]
    },
    {
      "cell_type": "code",
      "execution_count": null,
      "metadata": {
        "id": "LxS-U_DZym4v"
      },
      "outputs": [],
      "source": [
        "\n",
        "from flask_ngrok import run_with_ngrok\n",
        "from flask import jsonify, Flask, redirect, url_for"
      ]
    },
    {
      "cell_type": "code",
      "execution_count": null,
      "metadata": {
        "id": "md_3F46byqSN"
      },
      "outputs": [],
      "source": [
        "app = Flask(__name__) \n",
        "run_with_ngrok(app)"
      ]
    },
    {
      "cell_type": "code",
      "execution_count": null,
      "metadata": {
        "id": "vD9XDJDmytVO"
      },
      "outputs": [],
      "source": [
        "# Planilha com os dados de entrada no formato json\n",
        "data = [\n",
        "    {\n",
        "        \"Number\": 1,\n",
        "        \"Name\": \"Mahesh\",\n",
        "        \"Age\": 25,\n",
        "        \"City\": \"Bangalore\",\n",
        "        \"Country\": \"India\"\n",
        "    },\n",
        "    {\n",
        "        \"Number\": 2,\n",
        "        \"Name\": \"Alex\",\n",
        "        \"Age\": 26,\n",
        "        \"City\": \"London\",\n",
        "        \"Country\": \"UK\"\n",
        "    },\n",
        "    {\n",
        "        \"Number\": 3,\n",
        "        \"Name\": \"David\",\n",
        "        \"Age\": 27,\n",
        "        \"City\": \"San Francisco\",\n",
        "        \"Country\": \"USA\"\n",
        "    },\n",
        "    {\n",
        "        \"Number\": 4,\n",
        "        \"Name\": \"John\",\n",
        "        \"Age\": 28,\n",
        "        \"City\": \"Toronto\",\n",
        "        \"Country\": \"Canada\"\n",
        "    },\n",
        "    {\n",
        "        \"Number\": 5,\n",
        "        \"Name\": \"Chris\",\n",
        "        \"Age\": 29,\n",
        "        \"City\": \"Paris\",\n",
        "        \"Country\": \"France\"\n",
        "    }\n",
        "]"
      ]
    },
    {
      "cell_type": "code",
      "execution_count": null,
      "metadata": {
        "id": "XGJKTILuy1Yv"
      },
      "outputs": [],
      "source": [
        "@app.route(\"/\")\n",
        "def home():\n",
        "  # Redireciona rota raiz / para nossa rota de saída /index\n",
        "  return redirect(url_for('index'))"
      ]
    },
    {
      "cell_type": "code",
      "execution_count": null,
      "metadata": {
        "id": "x1MlQdSPzR7s"
      },
      "outputs": [],
      "source": [
        "@app.route(\"/index\")\n",
        "def index():\n",
        "  return jsonify(data)\n",
        "\n",
        "app.run()"
      ]
    },
    {
      "cell_type": "code",
      "execution_count": null,
      "metadata": {},
      "outputs": [],
      "source": []
    }
  ],
  "metadata": {
    "colab": {
      "provenance": []
    },
    "kernelspec": {
      "display_name": "Python 3",
      "name": "python3"
    },
    "language_info": {
      "codemirror_mode": {
        "name": "ipython",
        "version": 3
      },
      "file_extension": ".py",
      "mimetype": "text/x-python",
      "name": "python",
      "nbconvert_exporter": "python",
      "pygments_lexer": "ipython3",
      "version": "3.11.1"
    }
  },
  "nbformat": 4,
  "nbformat_minor": 0
}
